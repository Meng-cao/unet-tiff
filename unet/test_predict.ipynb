{
 "cells": [
  {
   "cell_type": "code",
   "execution_count": 1,
   "metadata": {},
   "outputs": [
    {
     "ename": "ModuleNotFoundError",
     "evalue": "No module named 'unet'",
     "output_type": "error",
     "traceback": [
      "\u001b[0;31m---------------------------------------------------------------------------\u001b[0m",
      "\u001b[0;31mModuleNotFoundError\u001b[0m                       Traceback (most recent call last)",
      "\u001b[0;32m<ipython-input-1-23e72b2b40b4>\u001b[0m in \u001b[0;36m<module>\u001b[0;34m\u001b[0m\n\u001b[0;32m----> 1\u001b[0;31m \u001b[0;32mfrom\u001b[0m \u001b[0munet\u001b[0m \u001b[0;32mimport\u001b[0m \u001b[0;34m*\u001b[0m\u001b[0;34m\u001b[0m\u001b[0;34m\u001b[0m\u001b[0m\n\u001b[0m\u001b[1;32m      2\u001b[0m \u001b[0;32mfrom\u001b[0m \u001b[0mdata\u001b[0m \u001b[0;32mimport\u001b[0m \u001b[0;34m*\u001b[0m\u001b[0;34m\u001b[0m\u001b[0;34m\u001b[0m\u001b[0m\n\u001b[1;32m      3\u001b[0m \u001b[0;34m\u001b[0m\u001b[0m\n\u001b[1;32m      4\u001b[0m \u001b[0;31m# mydata = dataProcess(512,512)\u001b[0m\u001b[0;34m\u001b[0m\u001b[0;34m\u001b[0m\u001b[0;34m\u001b[0m\u001b[0m\n\u001b[1;32m      5\u001b[0m \u001b[0;31m# imgs_test = mydata.load_test_data()\u001b[0m\u001b[0;34m\u001b[0m\u001b[0;34m\u001b[0m\u001b[0;34m\u001b[0m\u001b[0m\n",
      "\u001b[0;31mModuleNotFoundError\u001b[0m: No module named 'unet'"
     ]
    }
   ],
   "source": [
    "from unet import *\n",
    "from data import *\n",
    "\n",
    "# mydata = dataProcess(512,512)\n",
    "# imgs_test = mydata.load_test_data()\n",
    "#\n",
    "# myunet = myUnet()\n",
    "# model = myunet.get_unet()\n",
    "# model.load_weights('my_unet.hdf5')\n",
    "# imgs_mask_test = model.predict(imgs_test, verbose=1)\n",
    "#\n",
    "# np.save('imgs_mask_test.npy', imgs_mask_test)\n",
    "\n",
    "# ---------------------------------------------------------------------\n",
    "import matplotlib.pyplot as plt\n",
    "import numpy as np\n",
    "\n",
    "# imgs_test = np.load('../npydata/imgs_test.npy')\n",
    "# imgs_test_predict = np.load('../results/imgs_mask_test.npy')\n",
    "# print(imgs_test.shape, imgs_test_predict.shape)\n",
    "#\n",
    "#\n",
    "# n = 2\n",
    "# plt.figure(figsize=(20, 4))\n",
    "# for i in range(20, 22):\n",
    "#     plt.gray()\n",
    "#     ax = plt.subplot(2, n, (i-20)+1)\n",
    "#     plt.imshow(imgs_test[i].reshape(512, 512))\n",
    "#     ax.get_xaxis().set_visible(False)\n",
    "#     ax.get_yaxis().set_visible(False)\n",
    "#\n",
    "#     ax = plt.subplot(2, n, (i - 20) + n + 1)\n",
    "#     plt.imshow(imgs_test_predict[i].reshape(512, 512))\n",
    "#     ax.get_xaxis().set_visible(False)\n",
    "#     ax.get_yaxis().set_visible(False)\n",
    "# plt.show()\n",
    "\n",
    "print(\"array to image\")\n",
    "imgs = np.load('../results/imgs_mask_test.npy')\n",
    "for i in range(imgs.shape[0]):\n",
    "    img = imgs[i]\n",
    "    img = array_to_img(img)\n",
    "    img.save(\"../results/%d.jpg\" % (i))"
   ]
  },
  {
   "cell_type": "code",
   "execution_count": null,
   "metadata": {},
   "outputs": [],
   "source": []
  }
 ],
 "metadata": {
  "kernelspec": {
   "display_name": "Python 3",
   "language": "python",
   "name": "python3"
  },
  "language_info": {
   "codemirror_mode": {
    "name": "ipython",
    "version": 3
   },
   "file_extension": ".py",
   "mimetype": "text/x-python",
   "name": "python",
   "nbconvert_exporter": "python",
   "pygments_lexer": "ipython3",
   "version": "3.7.4"
  }
 },
 "nbformat": 4,
 "nbformat_minor": 2
}
